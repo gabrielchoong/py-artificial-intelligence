{
 "cells": [
  {
   "cell_type": "code",
   "execution_count": 1,
   "metadata": {},
   "outputs": [],
   "source": [
    "import pandas as pd\n",
    "import numpy as np\n",
    "\n",
    "np.random.seed(42)\n",
    "\n",
    "data = pd.DataFrame({\n",
    "    'Grade': np.random.randint(1, 100, 400),\n",
    "    'Subjects': np.random.choice(['Math', 'Science', 'Programming'], 400),\n",
    "    'Mid Term Grade': np.random.normal(50, 15, 400),\n",
    "    'Group': np.random.choice(['X', 'Y', 'Z'], 400),\n",
    "    'Quiz 1': np.random.randint(0, 2, 400),\n",
    "    'Quiz 2': np.random.uniform(0, 1, 400),\n",
    "    'Weights': np.random.randn(400),\n",
    "    'Date': np.random.choice(pd.date_range('2023-01-01', '2023-12-31'), 400),\n",
    "    'Final Grade GPA': np.random.choice(['A', 'B', 'C', 'D'], 400),\n",
    "    'Final Grade': np.random.normal(100, 25, 400)\n",
    "})"
   ]
  },
  {
   "cell_type": "code",
   "execution_count": 2,
   "metadata": {},
   "outputs": [],
   "source": [
    "to_drop = [\n",
    "    'Subjects',\n",
    "    'Group',\n",
    "    'Date',\n",
    "    'Final Grade GPA'\n",
    "]"
   ]
  },
  {
   "cell_type": "code",
   "execution_count": 3,
   "metadata": {},
   "outputs": [
    {
     "data": {
      "text/html": [
       "<div>\n",
       "<style scoped>\n",
       "    .dataframe tbody tr th:only-of-type {\n",
       "        vertical-align: middle;\n",
       "    }\n",
       "\n",
       "    .dataframe tbody tr th {\n",
       "        vertical-align: top;\n",
       "    }\n",
       "\n",
       "    .dataframe thead th {\n",
       "        text-align: right;\n",
       "    }\n",
       "</style>\n",
       "<table border=\"1\" class=\"dataframe\">\n",
       "  <thead>\n",
       "    <tr style=\"text-align: right;\">\n",
       "      <th></th>\n",
       "      <th>Grade</th>\n",
       "      <th>Mid Term Grade</th>\n",
       "      <th>Quiz 1</th>\n",
       "      <th>Quiz 2</th>\n",
       "      <th>Weights</th>\n",
       "      <th>Date</th>\n",
       "      <th>Final Grade</th>\n",
       "    </tr>\n",
       "  </thead>\n",
       "  <tbody>\n",
       "    <tr>\n",
       "      <th>count</th>\n",
       "      <td>400.000000</td>\n",
       "      <td>400.000000</td>\n",
       "      <td>400.00000</td>\n",
       "      <td>400.000000</td>\n",
       "      <td>400.000000</td>\n",
       "      <td>400</td>\n",
       "      <td>400.000000</td>\n",
       "    </tr>\n",
       "    <tr>\n",
       "      <th>mean</th>\n",
       "      <td>49.750000</td>\n",
       "      <td>49.522939</td>\n",
       "      <td>0.49750</td>\n",
       "      <td>0.500079</td>\n",
       "      <td>0.043888</td>\n",
       "      <td>2023-07-01 07:19:12</td>\n",
       "      <td>100.758953</td>\n",
       "    </tr>\n",
       "    <tr>\n",
       "      <th>min</th>\n",
       "      <td>1.000000</td>\n",
       "      <td>9.546700</td>\n",
       "      <td>0.00000</td>\n",
       "      <td>0.007563</td>\n",
       "      <td>-2.921350</td>\n",
       "      <td>2023-01-01 00:00:00</td>\n",
       "      <td>34.106307</td>\n",
       "    </tr>\n",
       "    <tr>\n",
       "      <th>25%</th>\n",
       "      <td>24.000000</td>\n",
       "      <td>39.012882</td>\n",
       "      <td>0.00000</td>\n",
       "      <td>0.240315</td>\n",
       "      <td>-0.614990</td>\n",
       "      <td>2023-04-03 12:00:00</td>\n",
       "      <td>83.395803</td>\n",
       "    </tr>\n",
       "    <tr>\n",
       "      <th>50%</th>\n",
       "      <td>50.500000</td>\n",
       "      <td>49.509140</td>\n",
       "      <td>0.00000</td>\n",
       "      <td>0.513951</td>\n",
       "      <td>0.019822</td>\n",
       "      <td>2023-06-25 12:00:00</td>\n",
       "      <td>100.952198</td>\n",
       "    </tr>\n",
       "    <tr>\n",
       "      <th>75%</th>\n",
       "      <td>75.000000</td>\n",
       "      <td>59.378591</td>\n",
       "      <td>1.00000</td>\n",
       "      <td>0.740150</td>\n",
       "      <td>0.739640</td>\n",
       "      <td>2023-10-02 12:00:00</td>\n",
       "      <td>117.059282</td>\n",
       "    </tr>\n",
       "    <tr>\n",
       "      <th>max</th>\n",
       "      <td>99.000000</td>\n",
       "      <td>96.183212</td>\n",
       "      <td>1.00000</td>\n",
       "      <td>0.996697</td>\n",
       "      <td>3.193108</td>\n",
       "      <td>2023-12-31 00:00:00</td>\n",
       "      <td>177.747964</td>\n",
       "    </tr>\n",
       "    <tr>\n",
       "      <th>std</th>\n",
       "      <td>29.484587</td>\n",
       "      <td>15.071758</td>\n",
       "      <td>0.50062</td>\n",
       "      <td>0.288924</td>\n",
       "      <td>0.991904</td>\n",
       "      <td>NaN</td>\n",
       "      <td>24.408764</td>\n",
       "    </tr>\n",
       "  </tbody>\n",
       "</table>\n",
       "</div>"
      ],
      "text/plain": [
       "            Grade  Mid Term Grade     Quiz 1      Quiz 2     Weights  \\\n",
       "count  400.000000      400.000000  400.00000  400.000000  400.000000   \n",
       "mean    49.750000       49.522939    0.49750    0.500079    0.043888   \n",
       "min      1.000000        9.546700    0.00000    0.007563   -2.921350   \n",
       "25%     24.000000       39.012882    0.00000    0.240315   -0.614990   \n",
       "50%     50.500000       49.509140    0.00000    0.513951    0.019822   \n",
       "75%     75.000000       59.378591    1.00000    0.740150    0.739640   \n",
       "max     99.000000       96.183212    1.00000    0.996697    3.193108   \n",
       "std     29.484587       15.071758    0.50062    0.288924    0.991904   \n",
       "\n",
       "                      Date  Final Grade  \n",
       "count                  400   400.000000  \n",
       "mean   2023-07-01 07:19:12   100.758953  \n",
       "min    2023-01-01 00:00:00    34.106307  \n",
       "25%    2023-04-03 12:00:00    83.395803  \n",
       "50%    2023-06-25 12:00:00   100.952198  \n",
       "75%    2023-10-02 12:00:00   117.059282  \n",
       "max    2023-12-31 00:00:00   177.747964  \n",
       "std                    NaN    24.408764  "
      ]
     },
     "execution_count": 3,
     "metadata": {},
     "output_type": "execute_result"
    }
   ],
   "source": [
    "data.describe()"
   ]
  },
  {
   "cell_type": "code",
   "execution_count": 4,
   "metadata": {},
   "outputs": [
    {
     "data": {
      "text/plain": [
       "Grade              49.750000\n",
       "Mid Term Grade     49.522939\n",
       "Quiz 1              0.497500\n",
       "Quiz 2              0.500079\n",
       "Weights             0.043888\n",
       "Final Grade       100.758953\n",
       "dtype: float64"
      ]
     },
     "execution_count": 4,
     "metadata": {},
     "output_type": "execute_result"
    }
   ],
   "source": [
    "data.drop(to_drop, axis=1).mean()"
   ]
  },
  {
   "cell_type": "code",
   "execution_count": 5,
   "metadata": {},
   "outputs": [
    {
     "data": {
      "text/plain": [
       "Grade              50.500000\n",
       "Mid Term Grade     49.509140\n",
       "Quiz 1              0.000000\n",
       "Quiz 2              0.513951\n",
       "Weights             0.019822\n",
       "Final Grade       100.952198\n",
       "dtype: float64"
      ]
     },
     "execution_count": 5,
     "metadata": {},
     "output_type": "execute_result"
    }
   ],
   "source": [
    "data.drop(to_drop, axis=1).median()"
   ]
  },
  {
   "cell_type": "code",
   "execution_count": 6,
   "metadata": {},
   "outputs": [
    {
     "data": {
      "text/html": [
       "<div>\n",
       "<style scoped>\n",
       "    .dataframe tbody tr th:only-of-type {\n",
       "        vertical-align: middle;\n",
       "    }\n",
       "\n",
       "    .dataframe tbody tr th {\n",
       "        vertical-align: top;\n",
       "    }\n",
       "\n",
       "    .dataframe thead th {\n",
       "        text-align: right;\n",
       "    }\n",
       "</style>\n",
       "<table border=\"1\" class=\"dataframe\">\n",
       "  <thead>\n",
       "    <tr style=\"text-align: right;\">\n",
       "      <th></th>\n",
       "      <th>Grade</th>\n",
       "      <th>Mid Term Grade</th>\n",
       "      <th>Quiz 1</th>\n",
       "      <th>Quiz 2</th>\n",
       "      <th>Weights</th>\n",
       "      <th>Final Grade</th>\n",
       "    </tr>\n",
       "  </thead>\n",
       "  <tbody>\n",
       "    <tr>\n",
       "      <th>0</th>\n",
       "      <td>62.0</td>\n",
       "      <td>9.546700</td>\n",
       "      <td>0.0</td>\n",
       "      <td>0.007563</td>\n",
       "      <td>-2.921350</td>\n",
       "      <td>34.106307</td>\n",
       "    </tr>\n",
       "    <tr>\n",
       "      <th>1</th>\n",
       "      <td>NaN</td>\n",
       "      <td>10.235453</td>\n",
       "      <td>NaN</td>\n",
       "      <td>0.009332</td>\n",
       "      <td>-2.872262</td>\n",
       "      <td>34.894654</td>\n",
       "    </tr>\n",
       "    <tr>\n",
       "      <th>2</th>\n",
       "      <td>NaN</td>\n",
       "      <td>12.925332</td>\n",
       "      <td>NaN</td>\n",
       "      <td>0.011031</td>\n",
       "      <td>-2.703232</td>\n",
       "      <td>43.827767</td>\n",
       "    </tr>\n",
       "    <tr>\n",
       "      <th>3</th>\n",
       "      <td>NaN</td>\n",
       "      <td>15.471183</td>\n",
       "      <td>NaN</td>\n",
       "      <td>0.012108</td>\n",
       "      <td>-2.424240</td>\n",
       "      <td>44.517491</td>\n",
       "    </tr>\n",
       "    <tr>\n",
       "      <th>4</th>\n",
       "      <td>NaN</td>\n",
       "      <td>16.832970</td>\n",
       "      <td>NaN</td>\n",
       "      <td>0.012121</td>\n",
       "      <td>-2.362932</td>\n",
       "      <td>44.860849</td>\n",
       "    </tr>\n",
       "    <tr>\n",
       "      <th>...</th>\n",
       "      <td>...</td>\n",
       "      <td>...</td>\n",
       "      <td>...</td>\n",
       "      <td>...</td>\n",
       "      <td>...</td>\n",
       "      <td>...</td>\n",
       "    </tr>\n",
       "    <tr>\n",
       "      <th>395</th>\n",
       "      <td>NaN</td>\n",
       "      <td>86.686280</td>\n",
       "      <td>NaN</td>\n",
       "      <td>0.992158</td>\n",
       "      <td>2.062525</td>\n",
       "      <td>160.667912</td>\n",
       "    </tr>\n",
       "    <tr>\n",
       "      <th>396</th>\n",
       "      <td>NaN</td>\n",
       "      <td>88.401268</td>\n",
       "      <td>NaN</td>\n",
       "      <td>0.992484</td>\n",
       "      <td>2.170943</td>\n",
       "      <td>165.519827</td>\n",
       "    </tr>\n",
       "    <tr>\n",
       "      <th>397</th>\n",
       "      <td>NaN</td>\n",
       "      <td>88.600397</td>\n",
       "      <td>NaN</td>\n",
       "      <td>0.994139</td>\n",
       "      <td>2.558199</td>\n",
       "      <td>173.727361</td>\n",
       "    </tr>\n",
       "    <tr>\n",
       "      <th>398</th>\n",
       "      <td>NaN</td>\n",
       "      <td>89.485731</td>\n",
       "      <td>NaN</td>\n",
       "      <td>0.994866</td>\n",
       "      <td>2.589564</td>\n",
       "      <td>174.631475</td>\n",
       "    </tr>\n",
       "    <tr>\n",
       "      <th>399</th>\n",
       "      <td>NaN</td>\n",
       "      <td>96.183212</td>\n",
       "      <td>NaN</td>\n",
       "      <td>0.996697</td>\n",
       "      <td>3.193108</td>\n",
       "      <td>177.747964</td>\n",
       "    </tr>\n",
       "  </tbody>\n",
       "</table>\n",
       "<p>400 rows × 6 columns</p>\n",
       "</div>"
      ],
      "text/plain": [
       "     Grade  Mid Term Grade  Quiz 1    Quiz 2   Weights  Final Grade\n",
       "0     62.0        9.546700     0.0  0.007563 -2.921350    34.106307\n",
       "1      NaN       10.235453     NaN  0.009332 -2.872262    34.894654\n",
       "2      NaN       12.925332     NaN  0.011031 -2.703232    43.827767\n",
       "3      NaN       15.471183     NaN  0.012108 -2.424240    44.517491\n",
       "4      NaN       16.832970     NaN  0.012121 -2.362932    44.860849\n",
       "..     ...             ...     ...       ...       ...          ...\n",
       "395    NaN       86.686280     NaN  0.992158  2.062525   160.667912\n",
       "396    NaN       88.401268     NaN  0.992484  2.170943   165.519827\n",
       "397    NaN       88.600397     NaN  0.994139  2.558199   173.727361\n",
       "398    NaN       89.485731     NaN  0.994866  2.589564   174.631475\n",
       "399    NaN       96.183212     NaN  0.996697  3.193108   177.747964\n",
       "\n",
       "[400 rows x 6 columns]"
      ]
     },
     "execution_count": 6,
     "metadata": {},
     "output_type": "execute_result"
    }
   ],
   "source": [
    "data.drop(to_drop, axis=1).mode()"
   ]
  },
  {
   "cell_type": "code",
   "execution_count": 7,
   "metadata": {},
   "outputs": [
    {
     "data": {
      "text/plain": [
       "Grade             29.484587\n",
       "Mid Term Grade    15.071758\n",
       "Quiz 1             0.500620\n",
       "Quiz 2             0.288924\n",
       "Weights            0.991904\n",
       "Final Grade       24.408764\n",
       "dtype: float64"
      ]
     },
     "execution_count": 7,
     "metadata": {},
     "output_type": "execute_result"
    }
   ],
   "source": [
    "data.drop(to_drop, axis=1).std()"
   ]
  },
  {
   "cell_type": "code",
   "execution_count": 8,
   "metadata": {},
   "outputs": [
    {
     "data": {
      "text/plain": [
       "Grade             869.340852\n",
       "Mid Term Grade    227.157898\n",
       "Quiz 1              0.250620\n",
       "Quiz 2              0.083477\n",
       "Weights             0.983874\n",
       "Final Grade       595.787780\n",
       "dtype: float64"
      ]
     },
     "execution_count": 8,
     "metadata": {},
     "output_type": "execute_result"
    }
   ],
   "source": [
    "data.drop(to_drop, axis=1).var()"
   ]
  },
  {
   "cell_type": "code",
   "execution_count": 9,
   "metadata": {},
   "outputs": [
    {
     "data": {
      "text/plain": [
       "Grade             19900.000000\n",
       "Mid Term Grade    19809.175461\n",
       "Quiz 1              199.000000\n",
       "Quiz 2              200.031466\n",
       "Weights              17.555025\n",
       "Final Grade       40303.581014\n",
       "dtype: float64"
      ]
     },
     "execution_count": 9,
     "metadata": {},
     "output_type": "execute_result"
    }
   ],
   "source": [
    "data.drop(to_drop, axis=1).sum()"
   ]
  },
  {
   "cell_type": "code",
   "execution_count": 10,
   "metadata": {},
   "outputs": [
    {
     "data": {
      "text/plain": [
       "Grade              400\n",
       "Subjects           400\n",
       "Mid Term Grade     400\n",
       "Group              400\n",
       "Quiz 1             400\n",
       "Quiz 2             400\n",
       "Weights            400\n",
       "Date               400\n",
       "Final Grade GPA    400\n",
       "Final Grade        400\n",
       "dtype: int64"
      ]
     },
     "execution_count": 10,
     "metadata": {},
     "output_type": "execute_result"
    }
   ],
   "source": [
    "data.count()"
   ]
  },
  {
   "cell_type": "code",
   "execution_count": 11,
   "metadata": {},
   "outputs": [
    {
     "data": {
      "text/plain": [
       "Grade              1.000000\n",
       "Mid Term Grade     9.546700\n",
       "Quiz 1             0.000000\n",
       "Quiz 2             0.007563\n",
       "Weights           -2.921350\n",
       "Final Grade       34.106307\n",
       "dtype: float64"
      ]
     },
     "execution_count": 11,
     "metadata": {},
     "output_type": "execute_result"
    }
   ],
   "source": [
    "data.drop(to_drop, axis=1).min()"
   ]
  },
  {
   "cell_type": "code",
   "execution_count": 12,
   "metadata": {},
   "outputs": [
    {
     "data": {
      "text/plain": [
       "Grade              99.000000\n",
       "Mid Term Grade     96.183212\n",
       "Quiz 1              1.000000\n",
       "Quiz 2              0.996697\n",
       "Weights             3.193108\n",
       "Final Grade       177.747964\n",
       "dtype: float64"
      ]
     },
     "execution_count": 12,
     "metadata": {},
     "output_type": "execute_result"
    }
   ],
   "source": [
    "data.drop(to_drop, axis=1).max()"
   ]
  },
  {
   "cell_type": "code",
   "execution_count": 13,
   "metadata": {},
   "outputs": [
    {
     "data": {
      "text/plain": [
       "Grade              50.500000\n",
       "Mid Term Grade     49.509140\n",
       "Quiz 1              0.000000\n",
       "Quiz 2              0.513951\n",
       "Weights             0.019822\n",
       "Final Grade       100.952198\n",
       "Name: 0.5, dtype: float64"
      ]
     },
     "execution_count": 13,
     "metadata": {},
     "output_type": "execute_result"
    }
   ],
   "source": [
    "data.drop(to_drop, axis=1).quantile()"
   ]
  },
  {
   "cell_type": "code",
   "execution_count": 14,
   "metadata": {},
   "outputs": [
    {
     "data": {
      "text/html": [
       "<div>\n",
       "<style scoped>\n",
       "    .dataframe tbody tr th:only-of-type {\n",
       "        vertical-align: middle;\n",
       "    }\n",
       "\n",
       "    .dataframe tbody tr th {\n",
       "        vertical-align: top;\n",
       "    }\n",
       "\n",
       "    .dataframe thead th {\n",
       "        text-align: right;\n",
       "    }\n",
       "</style>\n",
       "<table border=\"1\" class=\"dataframe\">\n",
       "  <thead>\n",
       "    <tr style=\"text-align: right;\">\n",
       "      <th></th>\n",
       "      <th>Grade</th>\n",
       "      <th>Mid Term Grade</th>\n",
       "      <th>Quiz 1</th>\n",
       "      <th>Quiz 2</th>\n",
       "      <th>Weights</th>\n",
       "      <th>Final Grade</th>\n",
       "    </tr>\n",
       "  </thead>\n",
       "  <tbody>\n",
       "    <tr>\n",
       "      <th>Grade</th>\n",
       "      <td>1.000000</td>\n",
       "      <td>-0.051047</td>\n",
       "      <td>-0.002929</td>\n",
       "      <td>-0.066330</td>\n",
       "      <td>0.065664</td>\n",
       "      <td>-0.037164</td>\n",
       "    </tr>\n",
       "    <tr>\n",
       "      <th>Mid Term Grade</th>\n",
       "      <td>-0.051047</td>\n",
       "      <td>1.000000</td>\n",
       "      <td>-0.013366</td>\n",
       "      <td>0.017686</td>\n",
       "      <td>0.149139</td>\n",
       "      <td>-0.021946</td>\n",
       "    </tr>\n",
       "    <tr>\n",
       "      <th>Quiz 1</th>\n",
       "      <td>-0.002929</td>\n",
       "      <td>-0.013366</td>\n",
       "      <td>1.000000</td>\n",
       "      <td>0.009949</td>\n",
       "      <td>0.029914</td>\n",
       "      <td>-0.111135</td>\n",
       "    </tr>\n",
       "    <tr>\n",
       "      <th>Quiz 2</th>\n",
       "      <td>-0.066330</td>\n",
       "      <td>0.017686</td>\n",
       "      <td>0.009949</td>\n",
       "      <td>1.000000</td>\n",
       "      <td>-0.038037</td>\n",
       "      <td>-0.051009</td>\n",
       "    </tr>\n",
       "    <tr>\n",
       "      <th>Weights</th>\n",
       "      <td>0.065664</td>\n",
       "      <td>0.149139</td>\n",
       "      <td>0.029914</td>\n",
       "      <td>-0.038037</td>\n",
       "      <td>1.000000</td>\n",
       "      <td>0.028241</td>\n",
       "    </tr>\n",
       "    <tr>\n",
       "      <th>Final Grade</th>\n",
       "      <td>-0.037164</td>\n",
       "      <td>-0.021946</td>\n",
       "      <td>-0.111135</td>\n",
       "      <td>-0.051009</td>\n",
       "      <td>0.028241</td>\n",
       "      <td>1.000000</td>\n",
       "    </tr>\n",
       "  </tbody>\n",
       "</table>\n",
       "</div>"
      ],
      "text/plain": [
       "                   Grade  Mid Term Grade    Quiz 1    Quiz 2   Weights  \\\n",
       "Grade           1.000000       -0.051047 -0.002929 -0.066330  0.065664   \n",
       "Mid Term Grade -0.051047        1.000000 -0.013366  0.017686  0.149139   \n",
       "Quiz 1         -0.002929       -0.013366  1.000000  0.009949  0.029914   \n",
       "Quiz 2         -0.066330        0.017686  0.009949  1.000000 -0.038037   \n",
       "Weights         0.065664        0.149139  0.029914 -0.038037  1.000000   \n",
       "Final Grade    -0.037164       -0.021946 -0.111135 -0.051009  0.028241   \n",
       "\n",
       "                Final Grade  \n",
       "Grade             -0.037164  \n",
       "Mid Term Grade    -0.021946  \n",
       "Quiz 1            -0.111135  \n",
       "Quiz 2            -0.051009  \n",
       "Weights            0.028241  \n",
       "Final Grade        1.000000  "
      ]
     },
     "execution_count": 14,
     "metadata": {},
     "output_type": "execute_result"
    }
   ],
   "source": [
    "data.drop(to_drop, axis=1).corr()"
   ]
  },
  {
   "cell_type": "code",
   "execution_count": 15,
   "metadata": {},
   "outputs": [
    {
     "data": {
      "text/html": [
       "<div>\n",
       "<style scoped>\n",
       "    .dataframe tbody tr th:only-of-type {\n",
       "        vertical-align: middle;\n",
       "    }\n",
       "\n",
       "    .dataframe tbody tr th {\n",
       "        vertical-align: top;\n",
       "    }\n",
       "\n",
       "    .dataframe thead th {\n",
       "        text-align: right;\n",
       "    }\n",
       "</style>\n",
       "<table border=\"1\" class=\"dataframe\">\n",
       "  <thead>\n",
       "    <tr style=\"text-align: right;\">\n",
       "      <th></th>\n",
       "      <th>Grade</th>\n",
       "      <th>Mid Term Grade</th>\n",
       "      <th>Quiz 1</th>\n",
       "      <th>Quiz 2</th>\n",
       "      <th>Weights</th>\n",
       "      <th>Final Grade</th>\n",
       "    </tr>\n",
       "  </thead>\n",
       "  <tbody>\n",
       "    <tr>\n",
       "      <th>Grade</th>\n",
       "      <td>869.340852</td>\n",
       "      <td>-22.684514</td>\n",
       "      <td>-0.043233</td>\n",
       "      <td>-0.565056</td>\n",
       "      <td>1.920403</td>\n",
       "      <td>-26.746468</td>\n",
       "    </tr>\n",
       "    <tr>\n",
       "      <th>Mid Term Grade</th>\n",
       "      <td>-22.684514</td>\n",
       "      <td>227.157898</td>\n",
       "      <td>-0.100848</td>\n",
       "      <td>0.077015</td>\n",
       "      <td>2.229592</td>\n",
       "      <td>-8.073397</td>\n",
       "    </tr>\n",
       "    <tr>\n",
       "      <th>Quiz 1</th>\n",
       "      <td>-0.043233</td>\n",
       "      <td>-0.100848</td>\n",
       "      <td>0.250620</td>\n",
       "      <td>0.001439</td>\n",
       "      <td>0.014855</td>\n",
       "      <td>-1.358015</td>\n",
       "    </tr>\n",
       "    <tr>\n",
       "      <th>Quiz 2</th>\n",
       "      <td>-0.565056</td>\n",
       "      <td>0.077015</td>\n",
       "      <td>0.001439</td>\n",
       "      <td>0.083477</td>\n",
       "      <td>-0.010901</td>\n",
       "      <td>-0.359731</td>\n",
       "    </tr>\n",
       "    <tr>\n",
       "      <th>Weights</th>\n",
       "      <td>1.920403</td>\n",
       "      <td>2.229592</td>\n",
       "      <td>0.014855</td>\n",
       "      <td>-0.010901</td>\n",
       "      <td>0.983874</td>\n",
       "      <td>0.683758</td>\n",
       "    </tr>\n",
       "    <tr>\n",
       "      <th>Final Grade</th>\n",
       "      <td>-26.746468</td>\n",
       "      <td>-8.073397</td>\n",
       "      <td>-1.358015</td>\n",
       "      <td>-0.359731</td>\n",
       "      <td>0.683758</td>\n",
       "      <td>595.787780</td>\n",
       "    </tr>\n",
       "  </tbody>\n",
       "</table>\n",
       "</div>"
      ],
      "text/plain": [
       "                     Grade  Mid Term Grade    Quiz 1    Quiz 2   Weights  \\\n",
       "Grade           869.340852      -22.684514 -0.043233 -0.565056  1.920403   \n",
       "Mid Term Grade  -22.684514      227.157898 -0.100848  0.077015  2.229592   \n",
       "Quiz 1           -0.043233       -0.100848  0.250620  0.001439  0.014855   \n",
       "Quiz 2           -0.565056        0.077015  0.001439  0.083477 -0.010901   \n",
       "Weights           1.920403        2.229592  0.014855 -0.010901  0.983874   \n",
       "Final Grade     -26.746468       -8.073397 -1.358015 -0.359731  0.683758   \n",
       "\n",
       "                Final Grade  \n",
       "Grade            -26.746468  \n",
       "Mid Term Grade    -8.073397  \n",
       "Quiz 1            -1.358015  \n",
       "Quiz 2            -0.359731  \n",
       "Weights            0.683758  \n",
       "Final Grade      595.787780  "
      ]
     },
     "execution_count": 15,
     "metadata": {},
     "output_type": "execute_result"
    }
   ],
   "source": [
    "data.drop(to_drop, axis=1).cov()"
   ]
  },
  {
   "cell_type": "code",
   "execution_count": 16,
   "metadata": {},
   "outputs": [
    {
     "data": {
      "text/plain": [
       "Index               132\n",
       "Grade              3200\n",
       "Subjects           3200\n",
       "Mid Term Grade     3200\n",
       "Group              3200\n",
       "Quiz 1             3200\n",
       "Quiz 2             3200\n",
       "Weights            3200\n",
       "Date               3200\n",
       "Final Grade GPA    3200\n",
       "Final Grade        3200\n",
       "dtype: int64"
      ]
     },
     "execution_count": 16,
     "metadata": {},
     "output_type": "execute_result"
    }
   ],
   "source": [
    "data.memory_usage()"
   ]
  }
 ],
 "metadata": {
  "kernelspec": {
   "display_name": "default-py3124",
   "language": "python",
   "name": "python3"
  },
  "language_info": {
   "codemirror_mode": {
    "name": "ipython",
    "version": 3
   },
   "file_extension": ".py",
   "mimetype": "text/x-python",
   "name": "python",
   "nbconvert_exporter": "python",
   "pygments_lexer": "ipython3",
   "version": "3.12.4"
  }
 },
 "nbformat": 4,
 "nbformat_minor": 2
}
